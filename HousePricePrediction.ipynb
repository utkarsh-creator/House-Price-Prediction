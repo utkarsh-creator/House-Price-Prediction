{
 "cells": [
  {
   "cell_type": "code",
   "execution_count": null,
   "metadata": {},
   "outputs": [],
   "source": [
    "import pandas as pd\n",
    "import numpy as np\n",
    "import seaborn as sns\n",
    "import matplotlib.pyplot as plt\n",
    "%matplotlib inline\n",
    "import matplotlib.image as mpimg\n",
    "import folium\n",
    "import math\n",
    "import plotly.graph_objects as go\n",
    "import plotly.express as px\n",
    "import eli5\n",
    "import graphviz\n",
    "import networkx as nx\n",
    "from sklearn.metrics import accuracy_score, classification_report, confusion_matrix\n",
    "from sklearn.linear_model import LogisticRegression\n",
    "from sklearn.linear_model import LinearRegression\n",
    "from eli5.sklearn import PermutationImportance\n",
    "from folium import Choropleth, Circle, Marker\n",
    "from folium.plugins import HeatMap, MarkerCluster\n",
    "from sklearn.ensemble import RandomForestRegressor\n",
    "from sklearn.tree import DecisionTreeRegressor\n",
    "from sklearn.ensemble import ExtraTreesRegressor\n",
    "from xgboost import XGBRegressor\n",
    "from sklearn.metrics import mean_absolute_error,r2_score\n",
    "from sklearn.model_selection import train_test_split\n",
    "from geopy.geocoders import Nominatim\n",
    "from sklearn import tree\n",
    "from matplotlib import pyplot as plt\n",
    "from pdpbox import pdp, get_dataset, info_plots\n",
    "from string import ascii_letters\n",
    "from colorama import Fore, Back, Style\n",
    "y_ = Fore.YELLOW\n",
    "r_ = Fore.RED\n",
    "g_ = Fore.GREEN\n",
    "b_ = Fore.BLUE\n",
    "m_ = Fore.MAGENTA\n"
   ]
  },
  {
   "cell_type": "code",
   "execution_count": null,
   "metadata": {},
   "outputs": [],
   "source": [
    "!pip install geopy \n",
    "!pip install Nominatim\n",
    "!pip install folium"
   ]
  },
  {
   "cell_type": "code",
   "execution_count": null,
   "metadata": {},
   "outputs": [],
   "source": [
    "custom_colors = [\"#4e89ae\", \"#c56183\",\"#ed6663\",\"#ffa372\"]\n",
    "customPalette = sns.set_palette(sns.color_palette(custom_colors))"
   ]
  },
  {
   "cell_type": "code",
   "execution_count": null,
   "metadata": {},
   "outputs": [],
   "source": [
    "sns.palplot(sns.color_palette(custom_colors),size=1)\n",
    "plt.tick_params(axis='both', labelsize=0, length = 0)"
   ]
  },
  {
   "cell_type": "code",
   "execution_count": null,
   "metadata": {},
   "outputs": [],
   "source": [
    "mumbai = sns.dark_palette(custom_colors[0], reverse=True)\n",
    "sns.palplot(sns.color_palette(mumbai),size=1)\n",
    "plt.tick_params(axis='both', labelsize=0, length = 0)"
   ]
  },
  {
   "cell_type": "code",
   "execution_count": null,
   "metadata": {},
   "outputs": [],
   "source": [
    "delhi = sns.dark_palette(custom_colors[1], reverse=True)\n",
    "sns.palplot(sns.color_palette(delhi),size=1)\n",
    "plt.tick_params(axis='both', labelsize=0, length = 0)"
   ]
  },
  {
   "cell_type": "code",
   "execution_count": null,
   "metadata": {},
   "outputs": [],
   "source": [
    "chennai = sns.dark_palette(custom_colors[2], reverse=True)\n",
    "sns.palplot(sns.color_palette(chennai),size=1)\n",
    "plt.tick_params(axis='both', labelsize=0, length = 0)"
   ]
  },
  {
   "cell_type": "code",
   "execution_count": null,
   "metadata": {},
   "outputs": [],
   "source": [
    "hyderabad = sns.dark_palette(custom_colors[3], reverse=True)\n",
    "sns.palplot(sns.color_palette(hyderabad),size=1)"
   ]
  },
  {
   "cell_type": "code",
   "execution_count": null,
   "metadata": {},
   "outputs": [],
   "source": [
    "df1 = pd.read_csv('../Dataset/Mumbai.csv')\n",
    "df2 = pd.read_csv('../Dataset/Delhi.csv')\n",
    "df3 = pd.read_csv('../Dataset/Chennai.csv')\n",
    "df4 = pd.read_csv('../Dataset/Hyderabad.csv')\n",
    "df5 = pd.read_csv('../Dataset/Kolkata.csv')\n",
    "df6 = pd.read_csv('../Dataset/Bangalore.csv')"
   ]
  },
  {
   "cell_type": "code",
   "execution_count": null,
   "metadata": {},
   "outputs": [],
   "source": [
    "df1.head(5)"
   ]
  },
  {
   "cell_type": "code",
   "execution_count": null,
   "metadata": {},
   "outputs": [],
   "source": [
    "df2.head(5)"
   ]
  },
  {
   "cell_type": "code",
   "execution_count": null,
   "metadata": {},
   "outputs": [],
   "source": [
    "df3.head(5)"
   ]
  },
  {
   "cell_type": "code",
   "execution_count": null,
   "metadata": {},
   "outputs": [],
   "source": [
    "df4.head(5)"
   ]
  },
  {
   "cell_type": "code",
   "execution_count": null,
   "metadata": {},
   "outputs": [],
   "source": [
    "df5.head(5)"
   ]
  },
  {
   "cell_type": "code",
   "execution_count": null,
   "metadata": {},
   "outputs": [],
   "source": [
    "df6.head(5)"
   ]
  },
  {
   "cell_type": "code",
   "execution_count": null,
   "metadata": {},
   "outputs": [],
   "source": [
    "df1.replace(9, np.nan, inplace=True)\n",
    "df2.replace(9, np.nan, inplace=True)\n",
    "df3.replace(9, np.nan, inplace=True)\n",
    "df4.replace(9, np.nan, inplace=True)\n",
    "df5.replace(9, np.nan, inplace=True)\n",
    "df6.replace(9, np.nan, inplace=True)"
   ]
  },
  {
   "cell_type": "code",
   "execution_count": null,
   "metadata": {},
   "outputs": [],
   "source": [
    "df1 = df1.dropna()\n",
    "df2 = df2.dropna()\n",
    "df3 = df3.dropna()\n",
    "df4 = df4.dropna()\n",
    "df5 = df5.dropna()\n",
    "df6 = df6.dropna()"
   ]
  },
  {
   "cell_type": "code",
   "execution_count": null,
   "metadata": {},
   "outputs": [],
   "source": [
    "print(f\"{y_}Mumbai:{r_}{df1.shape}\\n\")\n",
    "print(f\"{y_}Delhi:{r_}{df2.shape}\\n\")\n",
    "print(f\"{y_}Chennai:{r_}{df3.shape}\\n\")\n",
    "print(f\"{y_}Hyderabad:{r_}{df4.shape}\\n\")\n",
    "print(f\"{y_}Kolkata:{r_}{df5.shape}\\n\")\n",
    "print(f\"{y_}Bangalore:{r_}{df6.shape}\\n\")"
   ]
  },
  {
   "cell_type": "code",
   "execution_count": null,
   "metadata": {},
   "outputs": [],
   "source": [
    "print(f\"{y_}Data types of data columns: \\n{m_}{df1.dtypes}\")"
   ]
  },
  {
   "cell_type": "code",
   "execution_count": null,
   "metadata": {},
   "outputs": [],
   "source": [
    "#converting the price in lakhs\n",
    "df1['Price'] = df1['Price']/100000\n",
    "df2['Price'] = df1['Price']/100000\n",
    "df3['Price'] = df1['Price']/100000\n",
    "df4['Price'] = df1['Price']/100000\n",
    "df5['Price'] = df1['Price']/100000\n",
    "df6['Price'] = df1['Price']/100000"
   ]
  },
  {
   "cell_type": "code",
   "execution_count": null,
   "metadata": {},
   "outputs": [],
   "source": [
    "c1 = [\"#4e89ae\",\"#BFD5E2\"]\n",
    "c2 = [\"#c56183\",\"#E6BCCA\"]\n",
    "c3 = [\"#ed6663\",\"#F7BDBC\"]\n",
    "c4 = [\"#ffa372\",\"#FFDECC\"]\n",
    "# Change the color\n",
    "c5 = [\"#ffa372\",\"#FFDECC\"]   \n",
    "c6 = [\"#ffa372\",\"#FFDECC\"]"
   ]
  },
  {
   "cell_type": "code",
   "execution_count": null,
   "metadata": {},
   "outputs": [],
   "source": [
    "def pie_chart(df,link,c,addAll = True):\n",
    "    df = df.iloc [:,5:-2] \n",
    "    fig = go.Figure()\n",
    "    for column in df.columns.to_list():\n",
    "        val = df[column].value_counts().rename_axis('unique_values').reset_index(name='val_count')\n",
    "        labels = val['unique_values']\n",
    "        values = val['val_count']\n",
    "        fig.add_trace(\n",
    "            go.Pie(\n",
    "                labels=labels, \n",
    "                values=values,\n",
    "                marker_colors=c\n",
    "            )\n",
    "        )\n",
    "        button_all = dict(label = 'All',\n",
    "                      method = 'update',\n",
    "                      args = [{'visible': df.columns.isin(df.columns),\n",
    "                               'title': 'All',\n",
    "                               'showlegend':True}])\n",
    "\n",
    "\n",
    "    def create_layout_button(column):\n",
    "        return dict(label = column,\n",
    "                    method = 'update',\n",
    "                    args = [{'visible': df.columns.isin([column]),\n",
    "                             'title': column,\n",
    "                             'showlegend': True}])\n",
    "    fig.add_layout_image(\n",
    "    dict(\n",
    "        source=link,\n",
    "        xref=\"paper\", yref=\"paper\",\n",
    "        x=0.5, y=0.95,\n",
    "        sizex=0.9, sizey=0.6,\n",
    "        xanchor=\"center\", yanchor=\"bottom\"\n",
    "    )\n",
    "    )\n",
    "    fig.update_layout(\n",
    "        updatemenus=[go.layout.Updatemenu(\n",
    "            active = 0,\n",
    "            buttons = ([button_all] * addAll) + list(df.columns.map(lambda column: create_layout_button(column)))\n",
    "            )\n",
    "        ])\n",
    "    \n",
    "    fig.show()"
   ]
  },
  {
   "cell_type": "code",
   "execution_count": null,
   "metadata": {},
   "outputs": [],
   "source": [
    "pie_chart(df1,\"https://i.imgur.com/OEr0Lw2.png\",c1)\n",
    "# need to add image of the pie chart according to our data"
   ]
  },
  {
   "cell_type": "code",
   "execution_count": null,
   "metadata": {},
   "outputs": [],
   "source": [
    "pie_chart(df2,\"https://i.imgur.com/Byi2BQE.png\",c2)"
   ]
  },
  {
   "cell_type": "code",
   "execution_count": null,
   "metadata": {},
   "outputs": [],
   "source": [
    "pie_chart(df3,\"https://i.imgur.com/8Yxjfhx.png\",c3)"
   ]
  },
  {
   "cell_type": "code",
   "execution_count": null,
   "metadata": {},
   "outputs": [],
   "source": [
    "pie_chart(df4,\"https://i.imgur.com/KXYLDQV.png\",c4)"
   ]
  },
  {
   "cell_type": "code",
   "execution_count": null,
   "metadata": {},
   "outputs": [],
   "source": [
    "pie_chart(df5,\"https://i.imgur.com/KXYLDQV.png\",c5)"
   ]
  },
  {
   "cell_type": "code",
   "execution_count": null,
   "metadata": {},
   "outputs": [],
   "source": [
    "pie_chart(df6,\"https://i.imgur.com/KXYLDQV.png\",c6)"
   ]
  },
  {
   "cell_type": "code",
   "execution_count": null,
   "metadata": {},
   "outputs": [],
   "source": [
    "merged.columns\n",
    "merged = merged.rename(columns={\"Children'splayarea\": \"ChildrenPlayArea\"})\n",
    "merged = merged.dropna()"
   ]
  },
  {
   "cell_type": "code",
   "execution_count": null,
   "metadata": {},
   "outputs": [],
   "source": [
    "plt.figure(figsize=(30,35))\n",
    "corr=merged.corr()\n",
    "mask = np.triu(np.ones_like(corr, dtype=bool))\n",
    "sns.heatmap(merged.corr(), mask=mask, cmap='coolwarm', vmax=.3, center=0,\n",
    "            square=True, linewidths=.5,annot=True)\n",
    "plt.show()"
   ]
  },
  {
   "cell_type": "code",
   "execution_count": null,
   "metadata": {},
   "outputs": [],
   "source": [
    "#TRYING WITH LINEAR REGRESSION"
   ]
  },
  {
   "cell_type": "code",
   "execution_count": null,
   "metadata": {},
   "outputs": [],
   "source": []
  },
  {
   "cell_type": "code",
   "execution_count": null,
   "metadata": {},
   "outputs": [],
   "source": []
  },
  {
   "cell_type": "code",
   "execution_count": null,
   "metadata": {},
   "outputs": [],
   "source": []
  },
  {
   "cell_type": "code",
   "execution_count": null,
   "metadata": {},
   "outputs": [],
   "source": []
  },
  {
   "cell_type": "code",
   "execution_count": null,
   "metadata": {},
   "outputs": [],
   "source": []
  },
  {
   "cell_type": "code",
   "execution_count": null,
   "metadata": {},
   "outputs": [],
   "source": []
  },
  {
   "cell_type": "code",
   "execution_count": null,
   "metadata": {},
   "outputs": [],
   "source": []
  },
  {
   "cell_type": "code",
   "execution_count": null,
   "metadata": {},
   "outputs": [],
   "source": []
  },
  {
   "cell_type": "code",
   "execution_count": null,
   "metadata": {},
   "outputs": [],
   "source": []
  },
  {
   "cell_type": "code",
   "execution_count": null,
   "metadata": {},
   "outputs": [],
   "source": [
    "##LINEAR REGRESSION WORKING"
   ]
  },
  {
   "cell_type": "code",
   "execution_count": null,
   "metadata": {},
   "outputs": [],
   "source": [
    "# Load your dataset into a DataFrame (replace 'your_data.csv' with your actual data file)\n",
    "# Extract the 'Area' feature as the independent variable and 'Price' as the target variable\n",
    "X = df1[['Area']]\n",
    "y = df1['Price']\n",
    "\n",
    "# Split the data into a training set and a testing set\n",
    "X_train, X_test, y_train, y_test = train_test_split(X, y, test_size=0.2, random_state=42)\n",
    "\n",
    "# Create a linear regression model\n",
    "model = LinearRegression()\n",
    "\n",
    "# Fit the model to the training data\n",
    "model.fit(X_train, y_train)\n",
    "\n",
    "# Make predictions on the test set\n",
    "y_pred = model.predict(X_test)\n",
    "\n",
    "# Visualize the scatter plot and the linear regression line\n",
    "plt.scatter(X_train, y_train, label='Actual Data', color='blue')\n",
    "plt.plot(X_train, model.predict(X_train), color='red', label='Linear Model')\n",
    "plt.xlabel('Area')\n",
    "plt.ylabel('Price')\n",
    "plt.legend()\n",
    "plt.title('Scatter Plot with Linear Regression Line')\n",
    "plt.show()"
   ]
  },
  {
   "cell_type": "code",
   "execution_count": null,
   "metadata": {},
   "outputs": [],
   "source": [
    "# Load your dataset into a DataFrame (replace 'your_data.csv' with your actual data file)\n",
    "# Extract the 'Area' feature as the independent variable and 'Price' as the target variable\n",
    "X = df2[['Area']]\n",
    "y = df2['Price']\n",
    "\n",
    "# Split the data into a training set and a testing set\n",
    "X_train, X_test, y_train, y_test = train_test_split(X, y, test_size=0.2, random_state=42)\n",
    "\n",
    "# Create a linear regression model\n",
    "model = LinearRegression()\n",
    "\n",
    "# Fit the model to the training data\n",
    "model.fit(X_train, y_train)\n",
    "\n",
    "# Make predictions on the test set\n",
    "y_pred = model.predict(X_test)\n",
    "\n",
    "# Visualize the scatter plot and the linear regression line\n",
    "plt.scatter(X_train, y_train, label='Actual Data', color='blue')\n",
    "plt.plot(X_train, model.predict(X_train), color='red', label='Linear Model')\n",
    "plt.xlabel('Area')\n",
    "plt.ylabel('Price')\n",
    "plt.legend()\n",
    "plt.title('Scatter Plot with Linear Regression Line')\n",
    "plt.show()"
   ]
  },
  {
   "cell_type": "code",
   "execution_count": null,
   "metadata": {},
   "outputs": [],
   "source": [
    "# Load your dataset into a DataFrame (replace 'your_data.csv' with your actual data file)\n",
    "# Extract the 'Area' feature as the independent variable and 'Price' as the target variable\n",
    "X = df3[['Area']]\n",
    "y = df3['Price']\n",
    "\n",
    "# Split the data into a training set and a testing set\n",
    "X_train, X_test, y_train, y_test = train_test_split(X, y, test_size=0.2, random_state=42)\n",
    "\n",
    "# Create a linear regression model\n",
    "model = LinearRegression()\n",
    "\n",
    "# Fit the model to the training data\n",
    "model.fit(X_train, y_train)\n",
    "\n",
    "# Make predictions on the test set\n",
    "y_pred = model.predict(X_test)\n",
    "\n",
    "# Visualize the scatter plot and the linear regression line\n",
    "plt.scatter(X_train, y_train, label='Actual Data', color='blue')\n",
    "plt.plot(X_train, model.predict(X_train), color='red', label='Linear Model')\n",
    "plt.xlabel('Area')\n",
    "plt.ylabel('Price')\n",
    "plt.legend()\n",
    "plt.title('Scatter Plot with Linear Regression Line')\n",
    "plt.show()"
   ]
  },
  {
   "cell_type": "code",
   "execution_count": null,
   "metadata": {},
   "outputs": [],
   "source": [
    "# Load your dataset into a DataFrame (replace 'your_data.csv' with your actual data file)\n",
    "# Extract the 'Area' feature as the independent variable and 'Price' as the target variable\n",
    "X = df4[['Area']]\n",
    "y = df4['Price']\n",
    "\n",
    "# Split the data into a training set and a testing set\n",
    "X_train, X_test, y_train, y_test = train_test_split(X, y, test_size=0.2, random_state=42)\n",
    "\n",
    "# Create a linear regression model\n",
    "model = LinearRegression()\n",
    "\n",
    "# Fit the model to the training data\n",
    "model.fit(X_train, y_train)\n",
    "\n",
    "# Make predictions on the test set\n",
    "y_pred = model.predict(X_test)\n",
    "\n",
    "# Visualize the scatter plot and the linear regression line\n",
    "plt.scatter(X_train, y_train, label='Actual Data', color='blue')\n",
    "plt.plot(X_train, model.predict(X_train), color='red', label='Linear Model')\n",
    "plt.xlabel('Area')\n",
    "plt.ylabel('Price')\n",
    "plt.legend()\n",
    "plt.title('Scatter Plot with Linear Regression Line')\n",
    "plt.show()"
   ]
  },
  {
   "cell_type": "code",
   "execution_count": null,
   "metadata": {},
   "outputs": [],
   "source": [
    "# Load your dataset into a DataFrame (replace 'your_data.csv' with your actual data file)\n",
    "# Extract the 'Area' feature as the independent variable and 'Price' as the target variable\n",
    "X = df5[['Area']]\n",
    "y = df5['Price']\n",
    "\n",
    "# Split the data into a training set and a testing set\n",
    "X_train, X_test, y_train, y_test = train_test_split(X, y, test_size=0.2, random_state=42)\n",
    "\n",
    "# Create a linear regression model\n",
    "model = LinearRegression()\n",
    "\n",
    "# Fit the model to the training data\n",
    "model.fit(X_train, y_train)\n",
    "\n",
    "# Make predictions on the test set\n",
    "y_pred = model.predict(X_test)\n",
    "\n",
    "# Visualize the scatter plot and the linear regression line\n",
    "plt.scatter(X_train, y_train, label='Actual Data', color='blue')\n",
    "plt.plot(X_train, model.predict(X_train), color='red', label='Linear Model')\n",
    "plt.xlabel('Area')\n",
    "plt.ylabel('Price')\n",
    "plt.legend()\n",
    "plt.title('Scatter Plot with Linear Regression Line')\n",
    "plt.show()"
   ]
  },
  {
   "cell_type": "code",
   "execution_count": null,
   "metadata": {},
   "outputs": [],
   "source": [
    "# Load your dataset into a DataFrame (replace 'your_data.csv' with your actual data file)\n",
    "# Extract the 'Area' feature as the independent variable and 'Price' as the target variable\n",
    "X = df6[['Area']]\n",
    "y = df6['Price']\n",
    "\n",
    "# Split the data into a training set and a testing set\n",
    "X_train, X_test, y_train, y_test = train_test_split(X, y, test_size=0.2, random_state=42)\n",
    "\n",
    "# Create a linear regression model\n",
    "model = LinearRegression()\n",
    "\n",
    "# Fit the model to the training data\n",
    "model.fit(X_train, y_train)\n",
    "\n",
    "# Make predictions on the test set\n",
    "y_pred = model.predict(X_test)\n",
    "\n",
    "# Visualize the scatter plot and the linear regression line\n",
    "plt.scatter(X_train, y_train, label='Actual Data', color='blue')\n",
    "plt.plot(X_train, model.predict(X_train), color='red', label='Linear Model')\n",
    "plt.xlabel('Area')\n",
    "plt.ylabel('Price')\n",
    "plt.legend()\n",
    "plt.title('Scatter Plot with Linear Regression Line')\n",
    "plt.show()"
   ]
  },
  {
   "cell_type": "code",
   "execution_count": null,
   "metadata": {},
   "outputs": [],
   "source": [
    " #Creation of new component \"sell\"\n",
    "# In this code, I calculate the median price in the dataset using df['Price'].median(). Then, I create the 'Sell' variable as follows:\n",
    "\n",
    "# If the 'Price' of a property is greater than the median price, 'Sell' is set to 1 (indicating that the property is sold).\n",
    "# If the 'Price' of a property is less than or equal to the median price, 'Sell' is set to 0 (indicating that the property is not sold).\n",
    "# The .astype(int) is used to ensure that 'Sell' is of integer data type (0 or 1).\n",
    "\n",
    "# This way, we convert the regression problem into a binary classification problem, where we predict whether a property is sold (1) or not sold (0) based on the 'Area' feature. You can modify this definition as needed for your specific use case."
   ]
  },
  {
   "cell_type": "code",
   "execution_count": null,
   "metadata": {},
   "outputs": [],
   "source": [
    "\n",
    "# Load your dataset into a DataFrame (replace 'your_data.csv' with your actual data file)\n",
    "\n",
    "# Define a binary target variable (e.g., 'Sell') and extract features\n",
    "df1['Sell'] = (df['Price'] > df1['Price'].median()).astype(int)\n",
    "X = df1[['Area']]\n",
    "y = df1['Sell']\n",
    "\n",
    "# Split the data into a training set and a testing set\n",
    "X_train, X_test, y_train, y_test = train_test_split(X, y, test_size=0.2, random_state=42)\n",
    "\n",
    "# Create a logistic regression model\n",
    "logistic_regressor = LogisticRegression(max_iter=1000)\n",
    "\n",
    "# Fit the model to the training data\n",
    "logistic_regressor.fit(X_train, y_train)\n",
    "\n",
    "# Make predictions on the test set\n",
    "y_pred = logistic_regressor.predict(X_test)\n",
    "\n",
    "# Plot the logistic regression decision boundary\n",
    "plt.scatter(X_test, y_test, label='Actual Data', color='blue')\n",
    "\n",
    "# Create a range of values for plotting the decision boundary\n",
    "x_values = np.linspace(X_test.min(), X_test.max(), 100).reshape(-1, 1)\n",
    "probabilities = logistic_regressor.predict_proba(x_values)[:, 1]\n",
    "\n",
    "# Plot the logistic regression decision boundary\n",
    "plt.plot(x_values, probabilities, label='Decision Boundary', color='red')\n",
    "\n",
    "plt.xlabel('Area')\n",
    "plt.ylabel('Sell (0 or 1)')\n",
    "plt.legend()\n",
    "plt.title('Logistic Regression Decision Boundary')\n",
    "plt.show()\n"
   ]
  },
  {
   "cell_type": "code",
   "execution_count": null,
   "metadata": {},
   "outputs": [],
   "source": [
    "#have to do it for all 6\n",
    "# Using a heatmap\n",
    "# Removing categorical data from the dataframe first\n",
    "\n",
    "heatmap_df = df1.select_dtypes(exclude='object')\n",
    "\n",
    "plt.figure(figsize= (30,25))\n",
    "sns.heatmap(heatmap_df.corr(), annot=True)"
   ]
  },
  {
   "cell_type": "code",
   "execution_count": null,
   "metadata": {},
   "outputs": [],
   "source": [
    "df1.hist(bins=50,figsize=(15,10))"
   ]
  },
  {
   "cell_type": "code",
   "execution_count": null,
   "metadata": {},
   "outputs": [],
   "source": [
    "df1.info()"
   ]
  },
  {
   "cell_type": "code",
   "execution_count": null,
   "metadata": {},
   "outputs": [],
   "source": [
    "corr_matrix=df1.corr()"
   ]
  },
  {
   "cell_type": "code",
   "execution_count": null,
   "metadata": {},
   "outputs": [],
   "source": [
    "corr_matrix['Price'].sort_values(ascending=False)"
   ]
  },
  {
   "cell_type": "code",
   "execution_count": null,
   "metadata": {},
   "outputs": [],
   "source": [
    "sns.pairplot(df1[['Area','Price','No. of Bedrooms']])"
   ]
  },
  {
   "cell_type": "code",
   "execution_count": null,
   "metadata": {},
   "outputs": [],
   "source": []
  }
 ],
 "metadata": {
  "colab": {
   "collapsed_sections": [],
   "name": "Heart Disease Prediction.ipynb",
   "provenance": [],
   "toc_visible": true
  },
  "kernelspec": {
   "display_name": "Python 3 (ipykernel)",
   "language": "python",
   "name": "python3"
  },
  "language_info": {
   "codemirror_mode": {
    "name": "ipython",
    "version": 3
   },
   "file_extension": ".py",
   "mimetype": "text/x-python",
   "name": "python",
   "nbconvert_exporter": "python",
   "pygments_lexer": "ipython3",
   "version": "3.11.6"
  }
 },
 "nbformat": 4,
 "nbformat_minor": 4
}
